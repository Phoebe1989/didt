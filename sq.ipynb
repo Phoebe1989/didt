{
 "cells": [
  {
   "cell_type": "code",
   "execution_count": 2,
   "metadata": {},
   "outputs": [],
   "source": [
    "import tensorflow as tf\n",
    "import pandas as pd\n",
    "import numpy as np\n",
    "import matplotlib.pyplot as plt\n",
    "\n",
    "%matplotlib inline\n"
   ]
  },
  {
   "cell_type": "code",
   "execution_count": 4,
   "metadata": {},
   "outputs": [
    {
     "data": {
      "text/plain": [
       "[<matplotlib.lines.Line2D at 0x2267f9c6688>]"
      ]
     },
     "execution_count": 4,
     "metadata": {},
     "output_type": "execute_result"
    },
    {
     "data": {
      "image/png": "[encoded data removed]",
      "text/plain": [
       "<Figure size 432x288 with 1 Axes>"
      ]
     },
     "metadata": {
      "needs_background": "light"
     },
     "output_type": "display_data"
    }
   ],
   "source": [
    "data = pd.read_csv('./sp/sp-data.csv')\n",
    "x = data.iloc[:,1:-1]\n",
    "y = data.iloc[:,-1:]\n",
    "\n",
    "plt.plot(y)"
   ]
  },
  {
   "cell_type": "code",
   "execution_count": 38,
   "metadata": {},
   "outputs": [
    {
     "name": "stdout",
     "output_type": "stream",
     "text": [
      "Model: \"sequential_7\"\n",
      "_________________________________________________________________\n",
      "Layer (type)                 Output Shape              Param #   \n",
      "=================================================================\n",
      "dense_42 (Dense)             (None, 10)                100       \n",
      "_________________________________________________________________\n",
      "dense_43 (Dense)             (None, 10)                110       \n",
      "_________________________________________________________________\n",
      "dense_44 (Dense)             (None, 10)                110       \n",
      "_________________________________________________________________\n",
      "dense_45 (Dense)             (None, 10)                110       \n",
      "_________________________________________________________________\n",
      "dense_46 (Dense)             (None, 10)                110       \n",
      "_________________________________________________________________\n",
      "dense_47 (Dense)             (None, 1)                 11        \n",
      "=================================================================\n",
      "Total params: 551\n",
      "Trainable params: 551\n",
      "Non-trainable params: 0\n",
      "_________________________________________________________________\n"
     ]
    }
   ],
   "source": [
    "M = 10\n",
    "model = tf.keras.Sequential()\n",
    "model.add(tf.keras.layers.Dense(M,input_shape=(9,),activation='relu'))\n",
    "#model.add(tf.keras.layers.Dropout(0.5))\n",
    "model.add(tf.keras.layers.Dense(M,activation='relu'))\n",
    "model.add(tf.keras.layers.Dense(M,activation='relu'))\n",
    "model.add(tf.keras.layers.Dense(M,activation='relu'))\n",
    "model.add(tf.keras.layers.Dense(M,activation='relu'))\n",
    "model.add(tf.keras.layers.Dense(1,activation = 'relu'))\n",
    "model.summary()"
   ]
  },
  {
   "cell_type": "code",
   "execution_count": 39,
   "metadata": {},
   "outputs": [],
   "source": [
    "LR = 0.01\n",
    "model.compile(optimizer = tf.keras.optimizers.Adam(learning_rate = LR),\n",
    "             loss = 'mse',\n",
    "             #loss = 'categorical_crossentrophy',\n",
    "             metrics = ['acc'])"
   ]
  },
  {
   "cell_type": "code",
   "execution_count": 40,
   "metadata": {},
   "outputs": [
    {
     "name": "stdout",
     "output_type": "stream",
     "text": [
      "Train on 4637 samples\n",
      "Epoch 1/30\n",
      "4637/4637 [==============================] - 1s 203us/sample - loss: 0.3272 - acc: 0.0000e+00\n",
      "Epoch 2/30\n",
      "4637/4637 [==============================] - 0s 60us/sample - loss: 0.2822 - acc: 0.0000e+00\n",
      "Epoch 3/30\n",
      "4637/4637 [==============================] - 0s 60us/sample - loss: 0.2749 - acc: 0.0000e+00\n",
      "Epoch 4/30\n",
      "4637/4637 [==============================] - 0s 59us/sample - loss: 0.2738 - acc: 0.0000e+00\n",
      "Epoch 5/30\n",
      "4637/4637 [==============================] - 0s 59us/sample - loss: 0.2740 - acc: 0.0000e+00\n",
      "Epoch 6/30\n",
      "4637/4637 [==============================] - 0s 61us/sample - loss: 0.2728 - acc: 0.0000e+00\n",
      "Epoch 7/30\n",
      "4637/4637 [==============================] - 0s 61us/sample - loss: 0.2746 - acc: 0.0000e+00\n",
      "Epoch 8/30\n",
      "4637/4637 [==============================] - 0s 61us/sample - loss: 0.2737 - acc: 0.0000e+00\n",
      "Epoch 9/30\n",
      "4637/4637 [==============================] - 0s 61us/sample - loss: 0.2716 - acc: 0.0000e+00\n",
      "Epoch 10/30\n",
      "4637/4637 [==============================] - 0s 61us/sample - loss: 0.2739 - acc: 0.0000e+00\n",
      "Epoch 11/30\n",
      "4637/4637 [==============================] - 0s 63us/sample - loss: 0.2717 - acc: 0.0000e+00\n",
      "Epoch 12/30\n",
      "4637/4637 [==============================] - 0s 61us/sample - loss: 0.2750 - acc: 0.0000e+00\n",
      "Epoch 13/30\n",
      "4637/4637 [==============================] - 0s 65us/sample - loss: 0.2712 - acc: 0.0000e+00\n",
      "Epoch 14/30\n",
      "4637/4637 [==============================] - 0s 62us/sample - loss: 0.2734 - acc: 0.0000e+00\n",
      "Epoch 15/30\n",
      "4637/4637 [==============================] - 0s 65us/sample - loss: 0.2824 - acc: 0.0000e+00\n",
      "Epoch 16/30\n",
      "4637/4637 [==============================] - 0s 74us/sample - loss: 0.2726 - acc: 0.0000e+00\n",
      "Epoch 17/30\n",
      "4637/4637 [==============================] - 0s 76us/sample - loss: 0.2710 - acc: 0.0000e+00\n",
      "Epoch 18/30\n",
      "4637/4637 [==============================] - 0s 74us/sample - loss: 0.2730 - acc: 0.0000e+00\n",
      "Epoch 19/30\n",
      "4637/4637 [==============================] - 0s 70us/sample - loss: 0.2762 - acc: 0.0000e+00\n",
      "Epoch 20/30\n",
      "4637/4637 [==============================] - 0s 68us/sample - loss: 0.2739 - acc: 0.0000e+00\n",
      "Epoch 21/30\n",
      "4637/4637 [==============================] - 0s 71us/sample - loss: 0.2727 - acc: 0.0000e+00\n",
      "Epoch 22/30\n",
      "4637/4637 [==============================] - 0s 64us/sample - loss: 0.2727 - acc: 0.0000e+00\n",
      "Epoch 23/30\n",
      "4637/4637 [==============================] - 0s 64us/sample - loss: 0.2695 - acc: 0.0000e+00\n",
      "Epoch 24/30\n",
      "4637/4637 [==============================] - 0s 64us/sample - loss: 0.2758 - acc: 0.0000e+00\n",
      "Epoch 25/30\n",
      "4637/4637 [==============================] - 0s 63us/sample - loss: 0.2740 - acc: 0.0000e+00\n",
      "Epoch 26/30\n",
      "4637/4637 [==============================] - 0s 61us/sample - loss: 0.2715 - acc: 0.0000e+00\n",
      "Epoch 27/30\n",
      "4637/4637 [==============================] - 0s 61us/sample - loss: 0.2714 - acc: 0.0000e+00\n",
      "Epoch 28/30\n",
      "4637/4637 [==============================] - 0s 61us/sample - loss: 0.2705 - acc: 0.0000e+00\n",
      "Epoch 29/30\n",
      "4637/4637 [==============================] - 0s 60us/sample - loss: 0.2711 - acc: 0.0000e+00\n",
      "Epoch 30/30\n",
      "4637/4637 [==============================] - 0s 63us/sample - loss: 0.2727 - acc: 0.0000e+00\n"
     ]
    }
   ],
   "source": [
    "CYCLE = 30\n",
    "history = model.fit(x, y, epochs = CYCLE)"
   ]
  },
  {
   "cell_type": "code",
   "execution_count": 41,
   "metadata": {},
   "outputs": [
    {
     "data": {
      "text/plain": [
       "[<matplotlib.lines.Line2D at 0x226044bed08>]"
      ]
     },
     "execution_count": 41,
     "metadata": {},
     "output_type": "execute_result"
    },
    {
     "data": {
      "image/png": "[encoded data removed]",
      "text/plain": [
       "<Figure size 432x288 with 1 Axes>"
      ]
     },
     "metadata": {
      "needs_background": "light"
     },
     "output_type": "display_data"
    }
   ],
   "source": [
    "result = model.predict(x)\n",
    "plt.plot(y)\n",
    "plt.plot(result)"
   ]
  },
  {
   "cell_type": "code",
   "execution_count": 22,
   "metadata": {},
   "outputs": [],
   "source": [
    "import time\n",
    "name_str = '5x%i-%i-%i times' %(M, LR, CYCLE)\n",
    "r_data = pd.DataFrame(result, columns = [name_str])\n",
    "runtime = time.strftime('%Y-%m-%d-%H-%M-%S')\n",
    "#r_data.to_csv('./lds/exp/ldsq-{}-{}.csv'.format(name_str,runtime))\n"
   ]
  },
  {
   "cell_type": "code",
   "execution_count": 29,
   "metadata": {},
   "outputs": [
    {
     "data": {
      "text/html": [
       "<div>\n",
       "<style scoped>\n",
       "    .dataframe tbody tr th:only-of-type {\n",
       "        vertical-align: middle;\n",
       "    }\n",
       "\n",
       "    .dataframe tbody tr th {\n",
       "        vertical-align: top;\n",
       "    }\n",
       "\n",
       "    .dataframe thead th {\n",
       "        text-align: right;\n",
       "    }\n",
       "</style>\n",
       "<table border=\"1\" class=\"dataframe\">\n",
       "  <thead>\n",
       "    <tr style=\"text-align: right;\">\n",
       "      <th></th>\n",
       "      <th>*te_array0/SQ_CAC_sig00_active</th>\n",
       "      <th>*te_array0/SQ_CAC_sig10_active</th>\n",
       "      <th>*te_array0/SQ_CAC_sig20_active</th>\n",
       "      <th>*te_array0/SQ_CAC_sig30_active</th>\n",
       "      <th>*te_array0/SQ_CAC_sig40_active</th>\n",
       "      <th>*te_array0/SQ_CAC_sig50_active</th>\n",
       "      <th>*te_array0/SQ_CAC_sig60_active</th>\n",
       "      <th>*te_array0/SQ_CAC_sig70_active</th>\n",
       "      <th>*te_array0/SQ_CAC_sig80_active</th>\n",
       "    </tr>\n",
       "  </thead>\n",
       "  <tbody>\n",
       "    <tr>\n",
       "      <td>0</td>\n",
       "      <td>0</td>\n",
       "      <td>0</td>\n",
       "      <td>0</td>\n",
       "      <td>0</td>\n",
       "      <td>0</td>\n",
       "      <td>0</td>\n",
       "      <td>0</td>\n",
       "      <td>0</td>\n",
       "      <td>0</td>\n",
       "    </tr>\n",
       "    <tr>\n",
       "      <td>1</td>\n",
       "      <td>0</td>\n",
       "      <td>0</td>\n",
       "      <td>0</td>\n",
       "      <td>0</td>\n",
       "      <td>0</td>\n",
       "      <td>0</td>\n",
       "      <td>0</td>\n",
       "      <td>0</td>\n",
       "      <td>0</td>\n",
       "    </tr>\n",
       "    <tr>\n",
       "      <td>2</td>\n",
       "      <td>0</td>\n",
       "      <td>0</td>\n",
       "      <td>0</td>\n",
       "      <td>0</td>\n",
       "      <td>0</td>\n",
       "      <td>0</td>\n",
       "      <td>0</td>\n",
       "      <td>0</td>\n",
       "      <td>0</td>\n",
       "    </tr>\n",
       "    <tr>\n",
       "      <td>3</td>\n",
       "      <td>0</td>\n",
       "      <td>0</td>\n",
       "      <td>0</td>\n",
       "      <td>0</td>\n",
       "      <td>0</td>\n",
       "      <td>0</td>\n",
       "      <td>0</td>\n",
       "      <td>0</td>\n",
       "      <td>0</td>\n",
       "    </tr>\n",
       "    <tr>\n",
       "      <td>4</td>\n",
       "      <td>0</td>\n",
       "      <td>0</td>\n",
       "      <td>0</td>\n",
       "      <td>0</td>\n",
       "      <td>0</td>\n",
       "      <td>0</td>\n",
       "      <td>0</td>\n",
       "      <td>0</td>\n",
       "      <td>0</td>\n",
       "    </tr>\n",
       "    <tr>\n",
       "      <td>...</td>\n",
       "      <td>...</td>\n",
       "      <td>...</td>\n",
       "      <td>...</td>\n",
       "      <td>...</td>\n",
       "      <td>...</td>\n",
       "      <td>...</td>\n",
       "      <td>...</td>\n",
       "      <td>...</td>\n",
       "      <td>...</td>\n",
       "    </tr>\n",
       "    <tr>\n",
       "      <td>4632</td>\n",
       "      <td>0</td>\n",
       "      <td>0</td>\n",
       "      <td>0</td>\n",
       "      <td>0</td>\n",
       "      <td>0</td>\n",
       "      <td>0</td>\n",
       "      <td>0</td>\n",
       "      <td>0</td>\n",
       "      <td>0</td>\n",
       "    </tr>\n",
       "    <tr>\n",
       "      <td>4633</td>\n",
       "      <td>0</td>\n",
       "      <td>0</td>\n",
       "      <td>0</td>\n",
       "      <td>0</td>\n",
       "      <td>0</td>\n",
       "      <td>0</td>\n",
       "      <td>0</td>\n",
       "      <td>0</td>\n",
       "      <td>0</td>\n",
       "    </tr>\n",
       "    <tr>\n",
       "      <td>4634</td>\n",
       "      <td>0</td>\n",
       "      <td>0</td>\n",
       "      <td>0</td>\n",
       "      <td>0</td>\n",
       "      <td>0</td>\n",
       "      <td>0</td>\n",
       "      <td>0</td>\n",
       "      <td>0</td>\n",
       "      <td>0</td>\n",
       "    </tr>\n",
       "    <tr>\n",
       "      <td>4635</td>\n",
       "      <td>0</td>\n",
       "      <td>0</td>\n",
       "      <td>0</td>\n",
       "      <td>0</td>\n",
       "      <td>0</td>\n",
       "      <td>0</td>\n",
       "      <td>0</td>\n",
       "      <td>0</td>\n",
       "      <td>0</td>\n",
       "    </tr>\n",
       "    <tr>\n",
       "      <td>4636</td>\n",
       "      <td>0</td>\n",
       "      <td>0</td>\n",
       "      <td>0</td>\n",
       "      <td>0</td>\n",
       "      <td>0</td>\n",
       "      <td>0</td>\n",
       "      <td>0</td>\n",
       "      <td>0</td>\n",
       "      <td>0</td>\n",
       "    </tr>\n",
       "  </tbody>\n",
       "</table>\n",
       "<p>4637 rows × 9 columns</p>\n",
       "</div>"
      ],
      "text/plain": [
       "      *te_array0/SQ_CAC_sig00_active  *te_array0/SQ_CAC_sig10_active  \\\n",
       "0                                  0                               0   \n",
       "1                                  0                               0   \n",
       "2                                  0                               0   \n",
       "3                                  0                               0   \n",
       "4                                  0                               0   \n",
       "...                              ...                             ...   \n",
       "4632                               0                               0   \n",
       "4633                               0                               0   \n",
       "4634                               0                               0   \n",
       "4635                               0                               0   \n",
       "4636                               0                               0   \n",
       "\n",
       "      *te_array0/SQ_CAC_sig20_active  *te_array0/SQ_CAC_sig30_active  \\\n",
       "0                                  0                               0   \n",
       "1                                  0                               0   \n",
       "2                                  0                               0   \n",
       "3                                  0                               0   \n",
       "4                                  0                               0   \n",
       "...                              ...                             ...   \n",
       "4632                               0                               0   \n",
       "4633                               0                               0   \n",
       "4634                               0                               0   \n",
       "4635                               0                               0   \n",
       "4636                               0                               0   \n",
       "\n",
       "      *te_array0/SQ_CAC_sig40_active  *te_array0/SQ_CAC_sig50_active  \\\n",
       "0                                  0                               0   \n",
       "1                                  0                               0   \n",
       "2                                  0                               0   \n",
       "3                                  0                               0   \n",
       "4                                  0                               0   \n",
       "...                              ...                             ...   \n",
       "4632                               0                               0   \n",
       "4633                               0                               0   \n",
       "4634                               0                               0   \n",
       "4635                               0                               0   \n",
       "4636                               0                               0   \n",
       "\n",
       "      *te_array0/SQ_CAC_sig60_active  *te_array0/SQ_CAC_sig70_active  \\\n",
       "0                                  0                               0   \n",
       "1                                  0                               0   \n",
       "2                                  0                               0   \n",
       "3                                  0                               0   \n",
       "4                                  0                               0   \n",
       "...                              ...                             ...   \n",
       "4632                               0                               0   \n",
       "4633                               0                               0   \n",
       "4634                               0                               0   \n",
       "4635                               0                               0   \n",
       "4636                               0                               0   \n",
       "\n",
       "      *te_array0/SQ_CAC_sig80_active  \n",
       "0                                  0  \n",
       "1                                  0  \n",
       "2                                  0  \n",
       "3                                  0  \n",
       "4                                  0  \n",
       "...                              ...  \n",
       "4632                               0  \n",
       "4633                               0  \n",
       "4634                               0  \n",
       "4635                               0  \n",
       "4636                               0  \n",
       "\n",
       "[4637 rows x 9 columns]"
      ]
     },
     "execution_count": 29,
     "metadata": {},
     "output_type": "execute_result"
    }
   ],
   "source": [
    "signals = pd.read_csv('./sp/reportSignal-sq-single.csv')\n",
    "sig1 = signals.iloc[:, 2:11]\n",
    "sig1\n"
   ]
  },
  {
   "cell_type": "code",
   "execution_count": 30,
   "metadata": {},
   "outputs": [
    {
     "data": {
      "text/plain": [
       "[<matplotlib.lines.Line2D at 0x22606d7d408>]"
      ]
     },
     "execution_count": 30,
     "metadata": {},
     "output_type": "execute_result"
    },
    {
     "data": {
      "image/png": "[encoded data removed]",
      "text/plain": [
       "<Figure size 432x288 with 1 Axes>"
      ]
     },
     "metadata": {
      "needs_background": "light"
     },
     "output_type": "display_data"
    }
   ],
   "source": [
    "result1 = model.predict(sig1)\n",
    "data1 = pd.DataFrame(result1)\n",
    "plt.plot(data1)"
   ]
  },
  {
   "cell_type": "code",
   "execution_count": 32,
   "metadata": {},
   "outputs": [],
   "source": [
    "data_all = data1\n",
    "for i in range(1,128):\n",
    "\n",
    "    sigi = signals.iloc[:, 2+9*i: 11+9*i]\n",
    "    resulti = model.predict(sigi)\n",
    "    #np.hstack((result2,resulti))\n",
    "    datai = pd.DataFrame(resulti)\n",
    "    data_all = pd.concat([data_all, datai], axis = 1)\n",
    "    data_all.to_csv('./sp - prediction.csv')"
   ]
  },
  {
   "cell_type": "code",
   "execution_count": null,
   "metadata": {},
   "outputs": [],
   "source": []
  },
  {
   "cell_type": "code",
   "execution_count": null,
   "metadata": {},
   "outputs": [],
   "source": []
  }
 ],
 "metadata": {
  "kernelspec": {
   "display_name": "Python 3",
   "language": "python",
   "name": "python3"
  },
  "language_info": {
   "codemirror_mode": {
    "name": "ipython",
    "version": 3
   },
   "file_extension": ".py",
   "mimetype": "text/x-python",
   "name": "python",
   "nbconvert_exporter": "python",
   "pygments_lexer": "ipython3",
   "version": "3.7.4"
  }
 },
 "nbformat": 4,
 "nbformat_minor": 2
}
